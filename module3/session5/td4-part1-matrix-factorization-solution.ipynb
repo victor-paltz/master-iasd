{
  "cells": [
    {
      "cell_type": "markdown",
      "metadata": {
        "application/vnd.databricks.v1+cell": {
          "inputWidgets": {},
          "nuid": "ec58202f-3dde-4483-b569-f93f1ab4a8c7",
          "showTitle": false,
          "title": ""
        },
        "id": "b1G9-EI4Tf8O"
      },
      "source": [
        "# Matrix Factorization\n",
        "\n",
        "We will experiment with the recent MovieLens 25M Dataset and build a recommender system using two approaches:\n",
        "* Factorizing the user-item matrix using Spark ALS implementation\n",
        "* Factorizing the item-item PMI maatrix using randomized SVD\n",
        "\n",
        "In both settings we will index the item embeddings and inspect their quality using KNN queries."
      ]
    },
    {
      "cell_type": "code",
      "execution_count": null,
      "metadata": {
        "id": "eUjrfPwtVSNk"
      },
      "outputs": [],
      "source": [
        "!apt-get install openjdk-8-jdk-headless -qq > /dev/null\n",
        "!curl -O https://dlcdn.apache.org/spark/spark-3.2.4/spark-3.2.4-bin-hadoop3.2.tgz\n",
        "!tar xf spark-3.2.4-bin-hadoop3.2.tgz\n",
        "!pip install -q findspark\n",
        "!pip install pyspark"
      ]
    },
    {
      "cell_type": "code",
      "execution_count": null,
      "metadata": {
        "id": "hRap5s_jVS_k"
      },
      "outputs": [],
      "source": [
        "import os\n",
        "os.environ[\"JAVA_HOME\"] = \"/usr/lib/jvm/java-8-openjdk-amd64\"\n",
        "os.environ[\"SPARK_HOME\"] = \"/content/spark-3.2.4-bin-hadoop3.2\""
      ]
    },
    {
      "cell_type": "code",
      "execution_count": null,
      "metadata": {
        "id": "h8JO-9oHVUY8"
      },
      "outputs": [],
      "source": [
        "import findspark\n",
        "findspark.init()\n",
        "from pyspark.sql import SparkSession\n",
        "from pyspark import SparkContext, SparkConf\n",
        "\n",
        "conf = SparkConf().set('spark.ui.port', '4050')\n",
        "sc = SparkContext(conf=conf)\n",
        "spark = SparkSession.builder.master('local[*]').getOrCreate()\n",
        "ss = spark"
      ]
    },
    {
      "cell_type": "code",
      "execution_count": null,
      "metadata": {
        "id": "RoD64a80VZL4"
      },
      "outputs": [],
      "source": [
        "%matplotlib inline"
      ]
    },
    {
      "cell_type": "markdown",
      "metadata": {
        "application/vnd.databricks.v1+cell": {
          "inputWidgets": {},
          "nuid": "63c24520-7d86-48bc-8abe-c38f26bf1bc6",
          "showTitle": false,
          "title": ""
        },
        "id": "EfIGcSTITf8Q"
      },
      "source": [
        "# Part 1"
      ]
    },
    {
      "cell_type": "markdown",
      "metadata": {
        "application/vnd.databricks.v1+cell": {
          "inputWidgets": {},
          "nuid": "930121a6-31fe-4b95-8459-4fb22caf15e5",
          "showTitle": false,
          "title": ""
        },
        "id": "j5PFG4obTf8R"
      },
      "source": [
        "### Download the dataset"
      ]
    },
    {
      "cell_type": "code",
      "execution_count": null,
      "metadata": {
        "application/vnd.databricks.v1+cell": {
          "inputWidgets": {},
          "nuid": "f2fa6086-66c5-4421-997c-3abc0bc79ab2",
          "showTitle": false,
          "title": ""
        },
        "id": "4LtWoJfrTf8S"
      },
      "outputs": [],
      "source": [
        "!wget http://files.grouplens.org/datasets/movielens/ml-25m.zip\n",
        "!unzip ml-25m"
      ]
    },
    {
      "cell_type": "markdown",
      "metadata": {
        "application/vnd.databricks.v1+cell": {
          "inputWidgets": {},
          "nuid": "83dc87e1-4575-41fb-b9b9-53515664b2ac",
          "showTitle": false,
          "title": ""
        },
        "id": "EobcJpCDTf8U"
      },
      "source": [
        "### Loading the ratings dataset"
      ]
    },
    {
      "cell_type": "code",
      "execution_count": null,
      "metadata": {
        "application/vnd.databricks.v1+cell": {
          "inputWidgets": {},
          "nuid": "8e18eb64-a4bd-4e19-a0da-156831d0df8b",
          "showTitle": false,
          "title": ""
        },
        "id": "OvjeeEb-Tf8V"
      },
      "outputs": [],
      "source": [
        "#from pyspark.sql import SparkSession\n",
        "#from pyspark.ml.evaluation import RegressionEvaluator\n",
        "#from pyspark.ml.recommendation import ALS\n",
        "#from pyspark.sql import Row\n",
        "#import pyspark.sql.functions as F"
      ]
    },
    {
      "cell_type": "code",
      "execution_count": null,
      "metadata": {
        "application/vnd.databricks.v1+cell": {
          "inputWidgets": {},
          "nuid": "30cde39c-8089-4c5c-9b95-347a8b3414b0",
          "showTitle": false,
          "title": ""
        },
        "id": "mMtfp96LTf8V"
      },
      "outputs": [],
      "source": [
        "movies_df = spark.read.csv('ml-25m/movies.csv', header=True, inferSchema=True).cache()\n",
        "ratings_df = spark.read.csv('ml-25m/ratings.csv', header=True, inferSchema=True)"
      ]
    },
    {
      "cell_type": "markdown",
      "metadata": {
        "application/vnd.databricks.v1+cell": {
          "inputWidgets": {},
          "nuid": "9638b534-2471-4f74-8c9c-df471a6dbc43",
          "showTitle": false,
          "title": ""
        },
        "id": "GqwyLUPATf8W"
      },
      "source": [
        "### Split the dataset\n",
        "We want to randomly split the dataset into train and test parts"
      ]
    },
    {
      "cell_type": "code",
      "execution_count": null,
      "metadata": {
        "application/vnd.databricks.v1+cell": {
          "inputWidgets": {},
          "nuid": "099d08ee-00b8-496e-a91e-240c18f31a5d",
          "showTitle": false,
          "title": ""
        },
        "id": "s5G60ukkTf8X"
      },
      "outputs": [],
      "source": [
        "import pyspark.sql.functions as F"
      ]
    },
    {
      "cell_type": "code",
      "execution_count": null,
      "metadata": {
        "application/vnd.databricks.v1+cell": {
          "inputWidgets": {},
          "nuid": "e4fb1bf3-ef27-4585-adfb-56a543e1ca72",
          "showTitle": false,
          "title": ""
        },
        "id": "ivo72M-kTf8Y"
      },
      "outputs": [],
      "source": [
        "# you may want to try this :\n",
        "\n",
        "#training_percent = 80\n",
        "#training_df = user_movies_interactions = (\n",
        "#    ratings_df\n",
        "#    .filter(F.expr(f'PMOD(HASH(userId),100)')<training_percent)\n",
        "#    .repartition('userId', 'movieId')\n",
        "#).cache()\n",
        "#validation_df = user_movies_interactions = (\n",
        "#    ratings_df\n",
        "#    .filter(F.expr(f'PMOD(HASH(userId),100)')>=training_percent)\n",
        "#    .repartition('userId', 'movieId')\n",
        "#).cache()\n",
        "\n",
        "# it won't help much in the validation phase though !"
      ]
    },
    {
      "cell_type": "code",
      "execution_count": null,
      "metadata": {
        "application/vnd.databricks.v1+cell": {
          "inputWidgets": {},
          "nuid": "003256b1-ec6f-4041-b447-cc702a2f0a08",
          "showTitle": false,
          "title": ""
        },
        "id": "NFuhpTl7Tf8Z"
      },
      "outputs": [],
      "source": [
        "(training_df, validation_df) = ratings_df.randomSplit([0.8, 0.2])"
      ]
    },
    {
      "cell_type": "code",
      "execution_count": null,
      "metadata": {
        "application/vnd.databricks.v1+cell": {
          "inputWidgets": {},
          "nuid": "9dc8e22b-5a6b-4a23-ad94-4bf1ed8adfac",
          "showTitle": false,
          "title": ""
        },
        "id": "m0mSY76fTf8a"
      },
      "outputs": [],
      "source": [
        "training_df.count()"
      ]
    },
    {
      "cell_type": "markdown",
      "metadata": {
        "application/vnd.databricks.v1+cell": {
          "inputWidgets": {},
          "nuid": "b7b13148-8e7e-46f1-b856-3727dd2c7021",
          "showTitle": false,
          "title": ""
        },
        "id": "Ze64TjECTf8a"
      },
      "source": [
        "### Build ALS model\n",
        "Using the Spark ALS implementation described here https://spark.apache.org/docs/2.2.0/ml-collaborative-filtering.html\n",
        "Build a model using the ml-25m dataset.\n",
        "\n",
        "How long does the training take, change the rank (i.e. the dimension of the vectors) from 10 to 20. How does that affect training speed ?"
      ]
    },
    {
      "cell_type": "code",
      "execution_count": null,
      "metadata": {
        "application/vnd.databricks.v1+cell": {
          "inputWidgets": {},
          "nuid": "b3fd44e1-0529-4af3-919f-3118b6e30d13",
          "showTitle": false,
          "title": ""
        },
        "id": "-Dtmbv37Tf8b"
      },
      "outputs": [],
      "source": [
        "from pyspark.ml.recommendation import ALS\n",
        "import time\n",
        "\n",
        "ranks=[10,15,20,30]\n",
        "models=[]\n",
        "training_time=[]\n",
        "\n",
        "for rank in ranks:\n",
        "  start_time = time.time()\n",
        "  als = ALS(rank=rank, maxIter=5, regParam=0.01, userCol=\"userId\", itemCol=\"movieId\", ratingCol=\"rating\", coldStartStrategy=\"drop\")\n",
        "  model = als.fit(training_df)\n",
        "  models.append(model)\n",
        "  training_time.append(time.time() - start_time)"
      ]
    },
    {
      "cell_type": "code",
      "execution_count": null,
      "metadata": {
        "application/vnd.databricks.v1+cell": {
          "inputWidgets": {},
          "nuid": "2d712aad-f474-441f-8236-8a94e6cda128",
          "showTitle": false,
          "title": ""
        },
        "id": "aAwxxVfZTf8b"
      },
      "outputs": [],
      "source": [
        "from matplotlib.pyplot import plot\n",
        "%matplotlib inline\n",
        "plot(ranks, training_time)\n",
        "\n",
        "# processing time seems linear as long as we don't have memory issues to deal-with."
      ]
    },
    {
      "cell_type": "markdown",
      "metadata": {
        "application/vnd.databricks.v1+cell": {
          "inputWidgets": {},
          "nuid": "3342dd06-1737-43ec-bef3-c185c601bb24",
          "showTitle": false,
          "title": ""
        },
        "id": "BG8C6iGGTf8c"
      },
      "source": [
        "### Evaluation\n",
        "Using the code described in the Spark documentation, evaluate how good your model is doing on the test set.\n",
        "The goal is to predict the held out ratings.\n",
        "A good metric could be RMSE or MAE."
      ]
    },
    {
      "cell_type": "code",
      "execution_count": null,
      "metadata": {
        "application/vnd.databricks.v1+cell": {
          "inputWidgets": {},
          "nuid": "49bbd4e6-7c06-4929-9c97-cd56f7c7bcda",
          "showTitle": false,
          "title": ""
        },
        "id": "IDBKMNaxTf8c"
      },
      "outputs": [],
      "source": [
        "from pyspark.ml.evaluation import RegressionEvaluator\n",
        "\n",
        "predictions = model.transform(validation_df)\n",
        "evaluator = RegressionEvaluator(metricName=\"mae\", labelCol=\"rating\", predictionCol=\"prediction\")\n",
        "mae = evaluator.evaluate(predictions)\n",
        "print(\"MAE = \" + str(mae))"
      ]
    },
    {
      "cell_type": "markdown",
      "metadata": {
        "application/vnd.databricks.v1+cell": {
          "inputWidgets": {},
          "nuid": "9de1257d-ea6d-4833-ac47-79311f0c0f8a",
          "showTitle": false,
          "title": ""
        },
        "id": "AX7Bx3JuTf8d"
      },
      "source": [
        "### Inspecting the results\n",
        "\n",
        "Retrieve the movie vectors from the learned model object (the property is called itemFactors).\n",
        "and `collect` all these vectors in a list."
      ]
    },
    {
      "cell_type": "code",
      "execution_count": null,
      "metadata": {
        "application/vnd.databricks.v1+cell": {
          "inputWidgets": {},
          "nuid": "7d9e5482-54ff-4950-9b8d-4d889c64dd7b",
          "showTitle": false,
          "title": ""
        },
        "id": "TCDvFsDJTf8d"
      },
      "outputs": [],
      "source": [
        "movie_vectors_df = model.itemFactors.join(movies_df.withColumnRenamed('movieId', 'id'), 'id').select('title', 'features')"
      ]
    },
    {
      "cell_type": "markdown",
      "metadata": {
        "application/vnd.databricks.v1+cell": {
          "inputWidgets": {},
          "nuid": "6f67edcb-fc63-47b8-ae6d-ec1c1c6c1e42",
          "showTitle": false,
          "title": ""
        },
        "id": "ifIaUvuRTf8d"
      },
      "source": [
        "Now we need to create a dictionary mapping the movieId to it's title to ease the inspection. \n",
        "Load the `movies.csv` file using pyspark or pandas and create a `dict` movieId -> title."
      ]
    },
    {
      "cell_type": "code",
      "execution_count": null,
      "metadata": {
        "application/vnd.databricks.v1+cell": {
          "inputWidgets": {},
          "nuid": "d018601f-236f-4777-8a93-6846f5ac9ab7",
          "showTitle": false,
          "title": ""
        },
        "id": "0WfsiG4gTf8e"
      },
      "outputs": [],
      "source": [
        "movie_vect_dict = {r['title'] : r['features'] for r in movie_vectors_df.collect()}"
      ]
    },
    {
      "cell_type": "markdown",
      "metadata": {
        "application/vnd.databricks.v1+cell": {
          "inputWidgets": {},
          "nuid": "89e7fa17-0f14-42ae-9bd7-7894dbbc6069",
          "showTitle": false,
          "title": ""
        },
        "id": "sKxb3LDUTf8e"
      },
      "source": [
        "### Using Nearest neighbours\n",
        "\n",
        "Pick a few movies, and for each of them, find-out the top 5 nearest neighbours. This is very similar to an optional question of the PLSA project..."
      ]
    },
    {
      "cell_type": "code",
      "execution_count": null,
      "metadata": {
        "application/vnd.databricks.v1+cell": {
          "inputWidgets": {},
          "nuid": "acefd735-d0a6-454e-811a-8ccf54092731",
          "showTitle": false,
          "title": ""
        },
        "id": "j_CuBp21Tf8e"
      },
      "outputs": [],
      "source": [
        "title_vector_array = movie_vectors_df.collect()\n",
        "titles = [r['title'] for r in title_vector_array]\n",
        "vectors = [r['features'] for r in title_vector_array]"
      ]
    },
    {
      "cell_type": "code",
      "execution_count": null,
      "metadata": {
        "application/vnd.databricks.v1+cell": {
          "inputWidgets": {},
          "nuid": "c22a620d-a7d7-46d6-ab38-fb6556e0ce7c",
          "showTitle": false,
          "title": ""
        },
        "id": "Z9oowqZPTf8f"
      },
      "outputs": [],
      "source": [
        "import numpy\n",
        "from numpy import linalg as LA\n",
        "import heapq\n",
        "# naive knn with queue, using numpy to batch vector operations\n",
        "def knn(query, k, titles, vectors):\n",
        "  start_time = time.time()\n",
        "  nb_movies = len(titles)\n",
        "  diff = numpy.array(vectors) - numpy.array(query)\n",
        "  distances = LA.norm(diff, axis=1)\n",
        "  indices = heapq.nlargest(k, range(0, nb_movies), key=lambda x: -distances[x])\n",
        "  ret = [(titles[i], distances[i]) for i in indices]\n",
        "  print(f\"{time.time() - start_time}\")\n",
        "  return ret"
      ]
    },
    {
      "cell_type": "code",
      "execution_count": null,
      "metadata": {
        "application/vnd.databricks.v1+cell": {
          "inputWidgets": {},
          "nuid": "6afe8993-2f1a-4bee-ad77-ccee37bda30a",
          "showTitle": false,
          "title": ""
        },
        "id": "t3_2rnK2Tf8g"
      },
      "outputs": [],
      "source": [
        "def analyze(i):\n",
        "  print(f\"Query title : {titles[i]}\")\n",
        "  query_vec = vectors[i]\n",
        "  ret = knn(query_vec, 10, titles, vectors)\n",
        "  for res in ret:\n",
        "    print(res)"
      ]
    },
    {
      "cell_type": "code",
      "execution_count": null,
      "metadata": {
        "application/vnd.databricks.v1+cell": {
          "inputWidgets": {},
          "nuid": "b66d2c26-8ab1-4039-b1bd-4db8119fe990",
          "showTitle": false,
          "title": ""
        },
        "id": "uEOK199tTf8g"
      },
      "outputs": [],
      "source": [
        "analyze(4)"
      ]
    },
    {
      "cell_type": "markdown",
      "metadata": {
        "application/vnd.databricks.v1+cell": {
          "inputWidgets": {},
          "nuid": "0ec9dd97-3a51-4663-9c7a-5c046daf94bf",
          "showTitle": false,
          "title": ""
        },
        "id": "WuF9nDIRTf8g"
      },
      "source": [
        "# Part 2"
      ]
    },
    {
      "cell_type": "markdown",
      "metadata": {
        "application/vnd.databricks.v1+cell": {
          "inputWidgets": {},
          "nuid": "6a498b1f-c395-429d-9a32-7ce55ca8e470",
          "showTitle": false,
          "title": ""
        },
        "id": "eciFO1erTf8h"
      },
      "source": [
        "### Another approach - RSVD\n",
        "\n",
        "We now are going to factorize the item-item PMI matrix using randomized SVD."
      ]
    },
    {
      "cell_type": "markdown",
      "metadata": {
        "application/vnd.databricks.v1+cell": {
          "inputWidgets": {},
          "nuid": "943f025b-c703-483e-a0b1-554964f69a09",
          "showTitle": false,
          "title": ""
        },
        "id": "Apt5v9cwTf8h"
      },
      "source": [
        "### Creating the PMI matrix"
      ]
    },
    {
      "cell_type": "markdown",
      "metadata": {
        "application/vnd.databricks.v1+cell": {
          "inputWidgets": {},
          "nuid": "b11143da-b1f3-443b-bb73-f345126ee5d4",
          "showTitle": false,
          "title": ""
        },
        "id": "yX-9mt4oTf8i"
      },
      "source": [
        "Compute the movie pair counts by doing a self join on the ratings dataframe (filtered to keep only the relevant movies).\n",
        "\n",
        "Cautious ! This computation is expensive as we explicit all movie pairs from all users.\n",
        "\n",
        "You will need to filter / sample your data wisely to avoid big join."
      ]
    },
    {
      "cell_type": "code",
      "execution_count": null,
      "metadata": {
        "application/vnd.databricks.v1+cell": {
          "inputWidgets": {},
          "nuid": "d1f8d326-4d2e-4210-8fa8-4a03f4b90e33",
          "showTitle": false,
          "title": ""
        },
        "id": "VATnEZayTf8i"
      },
      "outputs": [],
      "source": [
        "# first things first we only keep movies liked by user.\n",
        "ratings_df = ratings_df.filter(F.col('rating')>=3.5).cache()"
      ]
    },
    {
      "cell_type": "markdown",
      "metadata": {
        "id": "29HT0Nof5Dol"
      },
      "source": []
    },
    {
      "cell_type": "code",
      "execution_count": null,
      "metadata": {
        "application/vnd.databricks.v1+cell": {
          "inputWidgets": {},
          "nuid": "0ee3af67-67ca-430c-9875-9fb1486c9e08",
          "showTitle": false,
          "title": ""
        },
        "id": "C01uFrgKTf8i"
      },
      "outputs": [],
      "source": [
        "# Let's look at how much ratings are done user by user\n",
        "# When user has scored a lots of movies, amount of pairs will increase quadratically !\n",
        "ratings_count_by_user_df = ratings_df.groupby('userId').agg(F.count('*').alias('count')).sort(F.col('count').desc()).cache()\n",
        "display(ratings_count_by_user_df)"
      ]
    },
    {
      "cell_type": "code",
      "execution_count": null,
      "metadata": {
        "application/vnd.databricks.v1+cell": {
          "inputWidgets": {},
          "nuid": "3945e65b-55ad-4018-af28-35aa9fedf6be",
          "showTitle": false,
          "title": ""
        },
        "id": "3YK12iDRTf8j"
      },
      "outputs": [],
      "source": [
        "# We will sample user ratings to make sure they don't exceed a given threshold.\n",
        "threshold = 40\n",
        "ratings_sampled_df = (\n",
        "  ratings_df\n",
        "  .join(ratings_count_by_user_df, 'userId')\n",
        "  .filter(F.rand() < threshold / F.col('count'))\n",
        "  .select('userId', 'movieId')\n",
        "  .repartition('userId', 'movieId')\n",
        "  .cache()\n",
        ")"
      ]
    },
    {
      "cell_type": "code",
      "execution_count": null,
      "metadata": {
        "application/vnd.databricks.v1+cell": {
          "inputWidgets": {},
          "nuid": "2834dd9e-e28e-485d-b83c-983038345f89",
          "showTitle": false,
          "title": ""
        },
        "id": "I1j2Z6RdTf8j"
      },
      "outputs": [],
      "source": [
        "# Also, self join will rely on sort merge join. We want to avoid two sort so we store the dataset, sorted.\n",
        "ratings_sampled_df.write\\\n",
        "    .bucketBy(8, 'userId') \\\n",
        "    .sortBy('userId') \\\n",
        "    .saveAsTable('bucketed_ratings', format='parquet')\n",
        "sorted_ratings_df = spark.table('bucketed_ratings').cache()"
      ]
    },
    {
      "cell_type": "code",
      "execution_count": null,
      "metadata": {
        "application/vnd.databricks.v1+cell": {
          "inputWidgets": {},
          "nuid": "a4fb4411-09e9-4f33-a9ce-a2cd801f57b9",
          "showTitle": false,
          "title": ""
        },
        "id": "JmTbVHTVTf8j"
      },
      "outputs": [],
      "source": [
        "pairs_df = (\n",
        "  sorted_ratings_df\n",
        "    .join(sorted_ratings_df.withColumnRenamed('movieId', 'movieId2'), 'userId')\n",
        "    .groupby(F.concat(F.greatest('movieId', 'movieId2'), F.lit(\"-\"), F.least('movieId','movieId2')).alias('pair'))\n",
        "    .agg(F.count(\"*\").alias('pair_count'))\n",
        "    .cache()\n",
        ")"
      ]
    },
    {
      "cell_type": "code",
      "execution_count": null,
      "metadata": {
        "application/vnd.databricks.v1+cell": {
          "inputWidgets": {},
          "nuid": "6453a38e-a774-4c7f-9369-b4bc90e91b3e",
          "showTitle": false,
          "title": ""
        },
        "id": "cYEz-H9hTf8j"
      },
      "outputs": [],
      "source": [
        "pairs_df.show()"
      ]
    },
    {
      "cell_type": "markdown",
      "metadata": {
        "application/vnd.databricks.v1+cell": {
          "inputWidgets": {},
          "nuid": "7660b5ca-a3d9-4c16-a359-325eef4896b6",
          "showTitle": false,
          "title": ""
        },
        "id": "J1wjexfdTf8k"
      },
      "source": [
        "Compute the amount of ratings by movie. You will need it in order to compute the pmi formula."
      ]
    },
    {
      "cell_type": "code",
      "execution_count": null,
      "metadata": {
        "application/vnd.databricks.v1+cell": {
          "inputWidgets": {},
          "nuid": "d30053fe-cdd2-4b81-8ff1-4da04b63c693",
          "showTitle": false,
          "title": ""
        },
        "id": "LJHRX2I3Tf8k"
      },
      "outputs": [],
      "source": [
        "movie_counts = ratings_sampled_df.groupby('movieId').agg(F.count(\"*\").alias('count')).cache()\n",
        "print(f\"Nb Movies : {movie_counts.count()}\")\n",
        "display(movie_counts.sort(F.col('count').desc()))"
      ]
    },
    {
      "cell_type": "markdown",
      "metadata": {
        "application/vnd.databricks.v1+cell": {
          "inputWidgets": {},
          "nuid": "6288f2f5-ef02-41e3-8541-24457ce97a95",
          "showTitle": false,
          "title": ""
        },
        "id": "tKIEjpHqTf8k"
      },
      "source": [
        "Using the movie counts and the pair counts, compute the PMI dataframe using the formula provided in the lecture.\n",
        "You will be doing a join between the pairs and counts twice."
      ]
    },
    {
      "cell_type": "code",
      "execution_count": null,
      "metadata": {
        "application/vnd.databricks.v1+cell": {
          "inputWidgets": {},
          "nuid": "90473310-1c36-4da2-b7d4-082166991e40",
          "showTitle": false,
          "title": ""
        },
        "id": "N4HnokfdTf8l"
      },
      "outputs": [],
      "source": [
        "n_ratings = ratings_sampled_df.count()\n",
        "\n",
        "pmi_df = (\n",
        "  pairs_df\n",
        "    .withColumn('split', F.split(F.col('pair'), '-').alias('split'))\n",
        "    .select(F.element_at('split', 1).alias('movieId1'), F.element_at('split', 2).alias('movieId2'), F.col('pair_count'))\n",
        "    .join(movie_counts.withColumnRenamed('movieId', 'movieId2'), 'movieId2')\n",
        "    .withColumnRenamed('count', 'count_movie2')\n",
        "    .join(movie_counts.withColumnRenamed('movieId', 'movieId1'), 'movieId1')\n",
        "    .withColumnRenamed('count', 'count_movie1')\n",
        "    .select(\n",
        "      F.col('movieId1'), \n",
        "      F.col('movieId2'), \n",
        "      ((F.col('pair_count') * n_ratings) / (F.col('count_movie1') * F.col('count_movie2'))).alias('pmi')\n",
        "    )\n",
        "    .cache()\n",
        ")"
      ]
    },
    {
      "cell_type": "code",
      "execution_count": null,
      "metadata": {
        "application/vnd.databricks.v1+cell": {
          "inputWidgets": {},
          "nuid": "742f6313-ff54-49c8-9cc8-bc4e55039979",
          "showTitle": false,
          "title": ""
        },
        "id": "ldVlSXIwTf8m"
      },
      "outputs": [],
      "source": [
        "pmi_df.show()"
      ]
    },
    {
      "cell_type": "markdown",
      "metadata": {
        "application/vnd.databricks.v1+cell": {
          "inputWidgets": {},
          "nuid": "6ae3d2c4-8142-41b2-b44f-e4653e480ed7",
          "showTitle": false,
          "title": ""
        },
        "id": "R4Zda5LNTf8m"
      },
      "source": [
        "### RSVD"
      ]
    },
    {
      "cell_type": "markdown",
      "metadata": {
        "application/vnd.databricks.v1+cell": {
          "inputWidgets": {},
          "nuid": "632c1d5f-eae1-4c24-b710-a1243abb2822",
          "showTitle": false,
          "title": ""
        },
        "id": "DnA2ZYcqTf8m"
      },
      "source": [
        "Now we need to build a scipy sparse matrix (lil_matrix) from the PMI dataframe. It is small enough to be collected into memory."
      ]
    },
    {
      "cell_type": "code",
      "execution_count": null,
      "metadata": {
        "application/vnd.databricks.v1+cell": {
          "inputWidgets": {},
          "nuid": "9f7ca07d-9fdc-4608-97fd-bc001ce33b75",
          "showTitle": false,
          "title": ""
        },
        "id": "zMIcjmAoTf8m"
      },
      "outputs": [],
      "source": [
        "rows = pmi_df.collect()\n",
        "vocabulary={}\n",
        "for row in rows:\n",
        "  vocabulary.setdefault(row['movieId1'], len(vocabulary))\n",
        "  vocabulary.setdefault(row['movieId2'], len(vocabulary))"
      ]
    },
    {
      "cell_type": "code",
      "execution_count": null,
      "metadata": {
        "application/vnd.databricks.v1+cell": {
          "inputWidgets": {},
          "nuid": "873af638-2351-42f3-967f-dedac32ff907",
          "showTitle": false,
          "title": ""
        },
        "id": "skJfIJ5DTf8m"
      },
      "outputs": [],
      "source": [
        "from math import log\n",
        "from scipy.sparse import lil_matrix\n",
        "matrix = lil_matrix((len(vocabulary),len(vocabulary)))\n",
        "for row in rows:\n",
        "  i = vocabulary[row['movieId1']]\n",
        "  j = vocabulary[row['movieId2']]\n",
        "  matrix[i,j] = log(row['pmi'])\n",
        "  matrix[j,i] = log(row['pmi'])"
      ]
    },
    {
      "cell_type": "markdown",
      "metadata": {
        "application/vnd.databricks.v1+cell": {
          "inputWidgets": {},
          "nuid": "7bb52455-55f5-4d0a-8256-56a44a67e598",
          "showTitle": false,
          "title": ""
        },
        "id": "sakU6NBiTf8m"
      },
      "source": [
        "Use the scikit-learn implementation of SVD https://scikit-learn.org/stable/modules/generated/sklearn.decomposition.TruncatedSVD.html to factorize the PMI matrix. It uses the randomized SVD algorithm presented as a default."
      ]
    },
    {
      "cell_type": "code",
      "execution_count": null,
      "metadata": {
        "application/vnd.databricks.v1+cell": {
          "inputWidgets": {},
          "nuid": "74999f03-2bb9-4702-b542-023f2829a00a",
          "showTitle": false,
          "title": ""
        },
        "id": "_l-u5SXkTf8n"
      },
      "outputs": [],
      "source": [
        "from sklearn.decomposition import TruncatedSVD\n",
        "svd = TruncatedSVD(n_components=30, random_state=42)\n",
        "svd.fit(matrix)"
      ]
    },
    {
      "cell_type": "markdown",
      "metadata": {
        "application/vnd.databricks.v1+cell": {
          "inputWidgets": {},
          "nuid": "34a5998d-9e80-46d8-9040-df5655ceecf7",
          "showTitle": false,
          "title": ""
        },
        "id": "e5Sv9hguTf8n"
      },
      "source": [
        "### Faiss Index"
      ]
    },
    {
      "cell_type": "markdown",
      "metadata": {
        "application/vnd.databricks.v1+cell": {
          "inputWidgets": {},
          "nuid": "e8e57ed4-fb78-40c9-8db0-f25503f58d3a",
          "showTitle": false,
          "title": ""
        },
        "id": "dk7UNtgATf8o"
      },
      "source": [
        "Let's install faiss-cpu, and create an index from these vectors. Query the index like what we have done previously."
      ]
    },
    {
      "cell_type": "code",
      "execution_count": null,
      "metadata": {
        "application/vnd.databricks.v1+cell": {
          "inputWidgets": {},
          "nuid": "8a3898b4-c15d-46bb-a526-8548b637251f",
          "showTitle": false,
          "title": ""
        },
        "id": "acmhAdE6Tf8o"
      },
      "outputs": [],
      "source": [
        "!pip install --upgrade pip\n",
        "!pip install faiss-cpu"
      ]
    },
    {
      "cell_type": "code",
      "execution_count": null,
      "metadata": {
        "application/vnd.databricks.v1+cell": {
          "inputWidgets": {},
          "nuid": "b604a1e3-a4cb-4752-9f25-56409f8d6fd4",
          "showTitle": false,
          "title": ""
        },
        "id": "WzZPKCOLTf8o"
      },
      "outputs": [],
      "source": [
        "# create faiss index\n",
        "import faiss\n",
        "index = faiss.IndexFlatL2(components_.shape[0])\n",
        "faiss_matrix = svd.components_.transpose().astype('float32')\n",
        "index.add(faiss_matrix)"
      ]
    },
    {
      "cell_type": "code",
      "execution_count": null,
      "metadata": {
        "application/vnd.databricks.v1+cell": {
          "inputWidgets": {},
          "nuid": "255b883f-9808-4877-ad0c-b7035b808ace",
          "showTitle": false,
          "title": ""
        },
        "id": "kE3tCzDUTf8p"
      },
      "outputs": [],
      "source": [
        "# used to display movie names\n",
        "inverted_index = {vocabulary[k]:k for k in vocabulary.keys()}\n",
        "titles_by_id = {row['movieId']:row['title'] for row in movies_df.collect()}\n",
        "\n",
        "# utility function to display top k\n",
        "def analyze(movie_index, k):\n",
        "  nb_dims = faiss_matrix.shape[1]\n",
        "  (embeddings, indexes) = index.search(faiss_matrix[movie_index,:].reshape((1,nb_dims)), k)\n",
        "  for movie in [titles_by_id[int(inverted_index[i])] for i in indexes[0,:]]:\n",
        "    print(movie)"
      ]
    },
    {
      "cell_type": "code",
      "execution_count": null,
      "metadata": {
        "application/vnd.databricks.v1+cell": {
          "inputWidgets": {},
          "nuid": "a169adc8-9c7b-4d63-b16e-2319f315faba",
          "showTitle": false,
          "title": ""
        },
        "id": "sZ5H5DwsTf8q"
      },
      "outputs": [],
      "source": [
        "analyze(14, 10)"
      ]
    },
    {
      "cell_type": "code",
      "execution_count": null,
      "metadata": {
        "id": "BG3s6ht25P4Y"
      },
      "outputs": [],
      "source": []
    }
  ],
  "metadata": {
    "application/vnd.databricks.v1+notebook": {
      "dashboards": [],
      "language": "python",
      "notebookMetadata": {
        "pythonIndentUnit": 2
      },
      "notebookName": "Matrix Factorization (Solution) (1)",
      "notebookOrigID": 3508639176841972,
      "widgets": {}
    },
    "colab": {
      "collapsed_sections": [
        "eciFO1erTf8h"
      ],
      "name": "td4-part1-matrix-factorization-solution.ipynb",
      "provenance": []
    },
    "kernelspec": {
      "display_name": "Python 3",
      "language": "python",
      "name": "python3"
    },
    "language_info": {
      "codemirror_mode": {
        "name": "ipython",
        "version": 3
      },
      "file_extension": ".py",
      "mimetype": "text/x-python",
      "name": "python",
      "nbconvert_exporter": "python",
      "pygments_lexer": "ipython3",
      "version": "3.7.4"
    }
  },
  "nbformat": 4,
  "nbformat_minor": 0
}
